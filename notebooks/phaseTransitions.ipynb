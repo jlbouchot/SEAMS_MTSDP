{
 "cells": [
  {
   "cell_type": "markdown",
   "metadata": {},
   "source": [
    "# Empirical analysis of recovery for sparse approximation problems\n",
    "\n",
    "$\\newcommand{\\eps}{\\varepsilon}$\n",
    "$\\newcommand{\\R}{\\mathbb{R}}$\n",
    "$\\newcommand{\\bR}{\\mathbb{R}}$\n",
    "$\\newcommand{\\cC}{\\mathbb{C}}$\n",
    "$\\newcommand{\\1}{{\\rm 1}\\kern-0.24em{\\rm I}}$\n",
    "$\\newcommand{\\inr}[1]{\\bigl< #1 \\bigr>}$\n",
    "$\\newcommand{\\norm}[1]{\\|#1\\|}$\n",
    "$\\newcommand{\\abs}[1]{\\left|#1\\right|}$\n",
    "$\\DeclareMathOperator*{\\argmin}{argmin}$\n"
   ]
  },
  {
   "cell_type": "markdown",
   "metadata": {},
   "source": [
    "In this tutorial we look at the success of recovery of the various algorithms introduced in the course. \n",
    "The goal is to see the impoortance of various sensing matrices and the impact they have on the recovery through sparse approximation algorithms.\n",
    "\n",
    "This notebook is heavily inspired from lecture notes of Guillaume Lecue."
   ]
  },
  {
   "cell_type": "markdown",
   "metadata": {},
   "source": [
    "In this notebook, we consider the Basis Pursuit procedure -- (BP). It can be recast to a linear program. We use the optimization library *cvxopt* to solve this linear program. An introduction to this library is provided for pedagogical purpose."
   ]
  },
  {
   "cell_type": "code",
   "execution_count": 1,
   "metadata": {},
   "outputs": [],
   "source": [
    "import numpy as np\n",
    "import matplotlib.pylab as plt\n",
    "\n",
    "%matplotlib inline"
   ]
  },
  {
   "cell_type": "markdown",
   "metadata": {},
   "source": [
    "## Review of compressed sensing / Sparse approximation\n",
    "\n",
    "We have seen in class that the goal of compressed sensing is to find pairs $(A,\\Delta)$ (respectively the sensing matrix and the recovery procedure) such that $\\Delta(y) \\approx x$ where the measurements $y = Ax + e \\in \\mathbb{R}^m$ are noisy samples of the signal $x \\in \\mathbb{R}^{N}$. \n",
    "Compressed sensing is looking at the (highly) underdetermined regime: $m << N$, but for which we have the knowledge that $x$ is $s$-sparse, in the sense that it is mainly composed of $0$ except for (at most) $s$ of its entries. \n",
    " \n",
    " A solution is to solve the basis pursuit problem, given by \n",
    " \n",
    " $$ \\hat{x} = \\operatorname{argmin} \\|z\\|_1, \\quad \\text{ subject to } Ax = Az$$\n",
    " \n",
    " We first implement some functions for generating signals and matrices, and will look afterwards at the probability of success for these newly created matrices and signals. \n",
    " \n",
    " In a second step, we will work out the same empirical results for the greedy algorithms.\n"
   ]
  },
  {
   "cell_type": "markdown",
   "metadata": {},
   "source": [
    "## Construction and representation of signals\n",
    "In this section, we construct $s$-sparse vectors in $\\mathbb{R}^N$ and find a good vizualization of those signals."
   ]
  },
  {
   "cell_type": "code",
   "execution_count": 2,
   "metadata": {},
   "outputs": [],
   "source": [
    "def signal(N, s):\n",
    "    \"\"\"Construct a signal of lenght N with s gaussian variables localized randomly and zeros everywhere else\"\"\"\n",
    "    x = np.zeros(N)\n",
    "    S = np.random.permutation(N)[0:s] # Keeps only the s first entries in the permutation. \n",
    "    x[S] = np.random.randn(s)\n",
    "    return x"
   ]
  },
  {
   "cell_type": "code",
   "execution_count": 3,
   "metadata": {},
   "outputs": [],
   "source": [
    "x = signal(100,15)"
   ]
  },
  {
   "cell_type": "code",
   "execution_count": 4,
   "metadata": {},
   "outputs": [
    {
     "data": {
      "text/plain": [
       "Text(0.5, 1.0, 'Représentation du vecteur x')"
      ]
     },
     "execution_count": 4,
     "metadata": {},
     "output_type": "execute_result"
    },
    {
     "data": {
      "image/png": "[encoded data removed]",
      "text/plain": [
       "<Figure size 640x480 with 1 Axes>"
      ]
     },
     "metadata": {},
     "output_type": "display_data"
    }
   ],
   "source": [
    "plt.stem(x)\n",
    "titre = 'Représentation du vecteur x'\n",
    "plt.title(titre)"
   ]
  },
  {
   "cell_type": "markdown",
   "metadata": {},
   "source": [
    "## Construction of measurements matrices\n",
    "We now want to construct potential random matrices. They will be based on powers of normal random variables.  \n",
    "\n",
    "Constructed a matrix using powers of Gaussian random variables: that is the measurement matrix $A$ is populated with i.i.d. random variables like $${\\rm sign}(g) |g|^p$$ where $g$ is a standard Gaussian variable and $p\\geq1$ is some power.\n"
   ]
  },
  {
   "cell_type": "code",
   "execution_count": 5,
   "metadata": {},
   "outputs": [],
   "source": [
    "def measurement_matrix(m, N, power = 2):\n",
    "    \"\"\"Construct a random matrix of size (m, N) for various type of random entries\"\"\"\n",
    "    mat = np.random.randn(m,N)\n",
    "    return np.multiply(mat**power, np.sign(mat))\n"
   ]
  },
  {
   "cell_type": "code",
   "execution_count": 6,
   "metadata": {},
   "outputs": [
    {
     "data": {
      "text/plain": [
       "array([[-3.29353888e+00,  1.08364186e+00, -1.43171191e-01,\n",
       "        -9.66727110e-01, -4.07456701e-02,  1.42126581e-01,\n",
       "         8.56133130e-01, -2.80327940e+00, -6.53494534e-02,\n",
       "         4.21998068e-01],\n",
       "       [-3.07387017e-04, -9.22196796e-01, -4.52087908e-02,\n",
       "         1.12005249e+00,  2.75485027e+00,  2.37208589e+00,\n",
       "        -5.26926594e-02,  6.50686844e-01,  5.31446464e-03,\n",
       "         4.92494204e-01]])"
      ]
     },
     "execution_count": 6,
     "metadata": {},
     "output_type": "execute_result"
    }
   ],
   "source": [
    "A = measurement_matrix(2, 10)#, power = 4)\n",
    "A"
   ]
  },
  {
   "cell_type": "markdown",
   "metadata": {},
   "source": [
    "## Basis Pursuit as a linear program\n",
    "One can recast the Basis Pursuit procedure as a linear program. \n",
    "\n",
    "Let $A\\in\\R^{m\\times N}$ be a measurements matrix and $y\\in\\R^m$ be a measurements vector. We consider the following linear programming problem (LP):\n",
    "\n",
    "\n",
    "> $$\\min_{z^+,z^-\\in\\bR^N} \\sum_{j=1}^n z_i^+ + z_i^-$$\n",
    "\n",
    "> subject to $$ [A|-A]\\left[\\begin{array}{c} z^+\\\\ z^-\\end{array}\\right] = y \\mbox{ and } \\left[\\begin{array}{c} z^+\\\\ z^-\\end{array}\\right]\\geq 0 $$\n",
    "\n",
    "\n",
    "\n",
    "For any $x\\in\\R^N$, we denote by  $x^+\\in\\R^N$ and $x^-\\in\\R^N$ vectors with coordinates given for any $j=1,\\ldots,N$ by \n",
    "\n",
    "\\begin{equation*}\n",
    "(x^+)_j = \\max(0,x_j) \\mbox{ et } (x^-)_j = \\max(0,-x_j).\n",
    "\\end{equation*}\n",
    "\n",
    "There is equivalence between the Basis Pursuit procedure and (LP) in the following way: \n",
    "\n",
    ">\tIf $\\hat x$ is a solution to (BP) then $(\\hat x^+, \\hat x^-)$ is solution to (LP)\n",
    "\n",
    ">\tIf $(\\hat z^+, \\hat z^-)$ is a solution to (LP) then $\\hat z^+-\\hat z^-$ is solution to (BP).\n",
    "\n",
    "\n"
   ]
  },
  {
   "cell_type": "markdown",
   "metadata": {},
   "source": [
    "# Import cvxopt library for solving linear programming problems\n",
    "\n",
    "**CVXOPT** is a very powerfull library for solving various type of convex optimization problems. We refer to examples from <a href=\"http://cvxopt.org/userguide/solvers.html#problems-with-nonlinear-objectives\">Non-linear convex optimization</a> and <a href=\"http://www.xavierdupre.fr/app/ensae_teaching_cs/helpsphinx3/notebooks/td1a_cenonce_session9.html\"> Xavier's TD9 </a>.\n",
    "\n",
    "*solvers.cp* solves non-linear convex optimization problems with twices differentiable objective and constraint functions with closed form solutions for the gradient and the Hessian.\n",
    "\n",
    "Here we are concerned about Linear Programming -- that is for convex optimization problems where both the objective and the constraints are linear."
   ]
  },
  {
   "cell_type": "code",
   "execution_count": 7,
   "metadata": {},
   "outputs": [],
   "source": [
    "from cvxopt import matrix, solvers, sparse, spmatrix, spdiag\n",
    "solvers.options['show_progress'] = False # No logs printed"
   ]
  },
  {
   "cell_type": "markdown",
   "metadata": {},
   "source": [
    "### matrix objects in cvxopt\n",
    "cvxopt has its own *matrix* object which is different from the numpy's one"
   ]
  },
  {
   "cell_type": "code",
   "execution_count": 8,
   "metadata": {},
   "outputs": [
    {
     "name": "stdout",
     "output_type": "stream",
     "text": [
      "[ 1  4]\n",
      "[ 2  5]\n",
      "[ 3  6]\n",
      " ---------- \n",
      " [ 2  5]\n",
      " ---------- \n",
      " [ 6  3]\n",
      "[ 5  2]\n",
      "[ 4  1]\n",
      " ---------- \n",
      " [ 1]\n",
      "[ 2]\n",
      "[ 3]\n",
      "[ 4]\n",
      "\n",
      "---------- \n",
      " (3, 2)\n"
     ]
    }
   ],
   "source": [
    "A = matrix([[1,2,3],[4,5,6]])\n",
    "print(A, '-'*10, '\\n',  A[1,:], '-'*10, '\\n', A[::-1,::-1], '-'*10, '\\n', A[0:4])\n",
    "print('-'*10, '\\n', A.size)"
   ]
  },
  {
   "cell_type": "code",
   "execution_count": 9,
   "metadata": {},
   "outputs": [
    {
     "name": "stdout",
     "output_type": "stream",
     "text": [
      "[ 1  3  5]\n",
      "[ 2  4  6]\n",
      " ---------- \n",
      " [ 1  3]\n",
      "[ 2  4]\n",
      " ---------- \n",
      " [ 1  3  5  1  3 -1 -3 ... ]\n",
      "[ 2  4  6  2  4 -2 -4 ... ]\n",
      " ---------- \n",
      " [  0   4   8  12]\n",
      "[  1   5   9  13]\n",
      "[  2   6  10  14]\n",
      "[  3   7  11  15]\n",
      " ---------- \n",
      " [ 1.00e+00]\n",
      "[ 1.00e+00]\n",
      "[ 1.00e+00]\n",
      "[ 1.00e+00]\n",
      "[ 1.00e+00]\n",
      " ---------- \n",
      " [-2.33e-01 -6.63e-02 -8.51e-01]\n",
      "[-1.64e+00 -6.19e-01 -7.57e-02]\n",
      " ---------- \n",
      " [ 0.00e+00]\n",
      "[ 0.00e+00]\n",
      "\n"
     ]
    }
   ],
   "source": [
    "A = matrix([1, 2, 3, 4, 5, 6], (2,3))\n",
    "B = matrix([ [1, 2], [3, 4] ])\n",
    "C = matrix([ [A] ,[B], [-A]])\n",
    "D = matrix(range(16),(4,4))\n",
    "E = matrix(np.ones(5))\n",
    "F = matrix(np.random.randn(2,3))\n",
    "G = matrix(np.zeros(2))\n",
    "print(A,'-'*10, '\\n', B, '-'*10, '\\n', C, '-'*10, '\\n', D, '-'*10, '\\n', E, '-'*10, '\\n', F, '-'*10, '\\n', G)"
   ]
  },
  {
   "cell_type": "code",
   "execution_count": 10,
   "metadata": {},
   "outputs": [
    {
     "name": "stdout",
     "output_type": "stream",
     "text": [
      "[ 1  4]\n",
      "[ 2  5]\n",
      "[ 3  6]\n",
      " ---------- \n",
      " [[1 4]\n",
      " [2 5]\n",
      " [3 6]]\n"
     ]
    }
   ],
   "source": [
    "A = matrix([[1,2,3],[4,5,6]])\n",
    "B = np.array(A)\n",
    "print(A, '-'*10, '\\n', B)"
   ]
  },
  {
   "cell_type": "markdown",
   "metadata": {},
   "source": [
    "### sparse matrix objects\n",
    "cvxopti has its own *sparse matrix* object which is different from the scipy's one"
   ]
  },
  {
   "cell_type": "code",
   "execution_count": 11,
   "metadata": {},
   "outputs": [
    {
     "name": "stdout",
     "output_type": "stream",
     "text": [
      "[ 1.00e+00     0    ]\n",
      "[    0      2.00e+00]\n",
      "[    0         0    ]\n",
      "[    0         0    ]\n",
      " ------------------------------ \n",
      " [ 1.00e+00  3.00e+00  1.00e+00     0    ]\n",
      "[ 2.00e+00  4.00e+00     0      2.00e+00]\n",
      "[ 1.00e+00  3.00e+00     0         0    ]\n",
      "[ 2.00e+00  4.00e+00     0         0    ]\n",
      " ------------------------------ \n",
      " [ 1.00e+00  3.00e+00     0         0         0         0    ]\n",
      "[ 2.00e+00  4.00e+00     0         0         0         0    ]\n",
      "[    0         0     -1.00e+00 -3.00e+00     0         0    ]\n",
      "[    0         0     -2.00e+00 -4.00e+00     0         0    ]\n",
      "[    0         0         0         0      1.00e+00     0    ]\n",
      "[    0         0         0         0         0      2.00e+00]\n",
      " ------------------------------ \n",
      " [ 1.00e+00     0    ]\n",
      "[    0      1.00e+00]\n",
      "\n",
      "[ 1  3]\n",
      "[ 2  4]\n",
      "[-1 -3]\n",
      "[-2 -4]\n",
      " ------------------------------ \n",
      " [ 1  3 -1 -3]\n",
      "[ 2  4 -2 -4]\n",
      " ------------------------------ \n",
      " [ 1.00e+00  3.00e+00 -1.00e+00 -3.00e+00]\n",
      "[ 2.00e+00  4.00e+00 -2.00e+00 -4.00e+00]\n",
      "[-1.00e+00 -3.00e+00  1.00e+00  3.00e+00]\n",
      "[-2.00e+00 -4.00e+00  2.00e+00  4.00e+00]\n",
      "[-1.00e+00  0.00e+00 -1.00e+00  0.00e+00]\n",
      "[ 0.00e+00 -1.00e+00  0.00e+00 -1.00e+00]\n",
      "\n"
     ]
    }
   ],
   "source": [
    "E = spmatrix([1, 2], [0, 1], [0, 1], (4,2)) #(value, row, column)\n",
    "B = matrix([ [1, 2], [3, 4] ])\n",
    "F = sparse([ [B, B], [E] ])\n",
    "G = spdiag([B, -B, 1, 2])\n",
    "H = spdiag([1]*2)\n",
    "K = matrix([B, -B])\n",
    "K2 = matrix([[B], [-B]])\n",
    "J = matrix([[B,-B, -H],[-B, B, -H]])\n",
    "print(E, '-'*30, '\\n', F, '-'*30, '\\n', G, '-'*30, '\\n', H)\n",
    "print(K, '-'*30, '\\n', K2, '-'*30, '\\n', J)"
   ]
  },
  {
   "cell_type": "markdown",
   "metadata": {},
   "source": [
    "## Linear programming in cvxopt (cf. <a href = 'http://cvxopt.org/userguide/coneprog.html#cvxopt.solvers.conelp'> cvxopt conelp solver </a> and <a href = 'http://cvxopt.org/userguide/coneprog.html#linear-programming'> cvxopt lp solver </a>)\n",
    "Linear Programming problems in *cvxopt* have the following form\n",
    "$$\\min \\inr{c,x} \\mbox{ subject to } Gx + s =h, Ax=b, s\\geq 0$$\n",
    "\n",
    "CVXOPT command to solve this problem is \n",
    "\n",
    "> sol = cvxopt.solvers.lp(c, G, h[, A, b[, solver[, primalstart[, dualstart]]]])\n",
    "\n",
    "> sol = sol['x']\n",
    "\n",
    "The **solver** argument is used to choose among three solvers. When it is omitted or None, the CVXOPT function **conelp** is used. The external solvers **GLPK** and **MOSEK** (if installed) can be selected by setting solver to 'glpk' or 'mosek'.\n",
    "\n",
    "Using option 'glpk' speeds up cvxopt by a factor of $2$ or $10$ (cf.  <a href = 'https://scaron.info/blog/linear-programming-in-python-with-cvxopt.html'> Stéphane Caron's webpage </a>)\n"
   ]
  },
  {
   "cell_type": "markdown",
   "metadata": {},
   "source": [
    "# Solving (BP) via cvxopt\n",
    "\n",
    "Let $A\\in\\bR^{m\\times N}$ and $y\\in\\R^m$. (LP) is defined by:\n",
    "\n",
    "> $$(\\hat z^+, \\hat z^-)\\in\\argmin_{(z^+,z^-)\\in\\bR^{2N}} \\sum_{j=1}^n z_i^+ + z_i^-  \\mbox{ subject to } [A|-A]\\left[\\begin{array}{c} z^+\\\\ z^-\\end{array}\\right] = y \\mbox{ and } \\left[\\begin{array}{c} z^+\\\\ z^-\\end{array}\\right]\\geq 0 $$\n",
    "\n",
    "Solution to (BP) is recovered via $t= \\hat z^+- \\hat z^-$.\n",
    "\n",
    "Linear Programming problem considered in cvxopt have the following form: \n",
    "\n",
    "\n",
    "$$\\min \\inr{c,x} \\mbox{ subject to } Gx + s =h, Ax=b, s\\geq 0.$$\n",
    "\n",
    "In the case of (LP) :\n",
    "\n",
    "$$c = \\left[\\begin{array}{c} \\1 \\\\ \\1 \\end{array}\\right]\\in\\R^{2N};\\hspace{1cm} G=-I_{2N}; \\hspace{1cm} h = 0\\in\\R^{2N}; \\hspace{1cm} A = [A|-A]\\in\\R^{m\\times 2N};\\hspace{1cm} b = y\\in\\R^m$$"
   ]
  },
  {
   "cell_type": "markdown",
   "metadata": {},
   "source": [
    "### construction of cvxopt matrices $c, G, h, A, b$"
   ]
  },
  {
   "cell_type": "code",
   "execution_count": 12,
   "metadata": {},
   "outputs": [
    {
     "data": {
      "text/plain": [
       "(2, 10)"
      ]
     },
     "execution_count": 12,
     "metadata": {},
     "output_type": "execute_result"
    }
   ],
   "source": [
    "measurement_matrix(2,10).shape"
   ]
  },
  {
   "cell_type": "code",
   "execution_count": 13,
   "metadata": {},
   "outputs": [],
   "source": [
    "def cvx_mat(A, y):\n",
    "    '''A, y: numpy array or cvx matrices\n",
    "    return parameters c, G, h, A, b for CVXOPT solvers.lp method'''\n",
    "    m, N = A.shape\n",
    "    c= matrix(np.ones(2*N))\n",
    "    G = spdiag([-1]*(2*N))\n",
    "    h = matrix(np.zeros(2*N))\n",
    "    A_cvx = matrix([[matrix(A)], [matrix(-A)]])\n",
    "    b = matrix(y)\n",
    "    return c, G, h, A_cvx, b"
   ]
  },
  {
   "cell_type": "code",
   "execution_count": 14,
   "metadata": {},
   "outputs": [],
   "source": [
    "N, m, s = 1000, 50, 3\n",
    "A, x = measurement_matrix(m, N), signal(N, s) \n",
    "y = np.dot(A,x)\n",
    "c, G, h, A, b = cvx_mat(A, y)\n",
    "#print(c, '-'*10, '\\n', G,'-'*10, '\\n', h,'-'*10, '\\n', A,'-'*10, '\\n', b)"
   ]
  },
  {
   "cell_type": "markdown",
   "metadata": {},
   "source": [
    "### cvxopt linear solver  <a href=\"http://cvxopt.org/examples/tutorial/lp.html\"> cvx lp </a>"
   ]
  },
  {
   "cell_type": "code",
   "execution_count": 15,
   "metadata": {},
   "outputs": [],
   "source": [
    "sol = solvers.lp(c, G, h, A, b)#, solver = 'glpk')\n",
    "sol = sol['x']\n",
    "x_recover = sol[0:N] - sol[N:2*N]"
   ]
  },
  {
   "cell_type": "code",
   "execution_count": 16,
   "metadata": {},
   "outputs": [
    {
     "data": {
      "text/plain": [
       "1.2006328422377867e-08"
      ]
     },
     "execution_count": 16,
     "metadata": {},
     "output_type": "execute_result"
    }
   ],
   "source": [
    "np.linalg.norm(matrix(x) - x_recover,2)"
   ]
  },
  {
   "cell_type": "code",
   "execution_count": 17,
   "metadata": {},
   "outputs": [],
   "source": [
    "def dist(x, sol):\n",
    "    N = len(x)\n",
    "    x_recover = sol[0:N] - sol[N:2*N]\n",
    "    return np.linalg.norm(matrix(x) - x_recover,2)"
   ]
  },
  {
   "cell_type": "code",
   "execution_count": 18,
   "metadata": {},
   "outputs": [
    {
     "name": "stdout",
     "output_type": "stream",
     "text": [
      "erreur ell_2 = 1.2814812878354894e-08\n"
     ]
    }
   ],
   "source": [
    "N, m, s = 500, 80, 10\n",
    "A, x = measurement_matrix(m, N), signal(N, s) \n",
    "y = np.dot(A,x)\n",
    "c, G, h, A, b = cvx_mat(A, y)\n",
    "sol = solvers.lp(c, G, h, A, b)\n",
    "sol = sol['x']\n",
    "x_recover = sol[0:N] - sol[N:2*N]\n",
    "print('erreur ell_2 = {}'.format(dist(x, sol)))"
   ]
  },
  {
   "cell_type": "code",
   "execution_count": 19,
   "metadata": {},
   "outputs": [
    {
     "data": {
      "text/plain": [
       "Text(0.5, 1.0, 'reconstruction')"
      ]
     },
     "execution_count": 19,
     "metadata": {},
     "output_type": "execute_result"
    },
    {
     "data": {
      "image/png": "[encoded data removed]",
      "text/plain": [
       "<Figure size 1600x700 with 2 Axes>"
      ]
     },
     "metadata": {},
     "output_type": "display_data"
    }
   ],
   "source": [
    "fig, (subfig1,subfig2) = plt.subplots(1,2,figsize=(16,7)) # one figure with two horizontal subfigures\n",
    "subfig1.stem(x)\n",
    "subfig1.set_title('signal')\n",
    "subfig2.stem(x_recover)\n",
    "subfig2.set_title('reconstruction')"
   ]
  },
  {
   "cell_type": "markdown",
   "metadata": {},
   "source": [
    "# Phase transition diagrams for (BP)\n",
    "\n",
    "We say that the reconstruction is a success when $||x-x_{recover}||_2\\leq 0.001$"
   ]
  },
  {
   "cell_type": "code",
   "execution_count": 20,
   "metadata": {},
   "outputs": [],
   "source": [
    "def phase_transition_mat(N, nbtest, success = 1e-3, power = 2):\n",
    "    \"\"\"return a N.N/2 matrix with the number of reconstruction success for every  1\\leq m \\leq N measurements \n",
    "    and sparsity 1\\leq sparsity \\leq N/2\n",
    "    N : ambiant dimension of the signals\n",
    "    nbtest : number of tests for each pixel\"\"\"\n",
    "    PTM = np.zeros([N, N // 2 + 1])\n",
    "    \n",
    "    for cur_m in range(1,N+1): \n",
    "        for cur_s in range(1,min(N//2+1,m)): \n",
    "            for a_test in range(nbtest): \n",
    "                # Generate a random matrix\n",
    "                A = measurement_matrix(cur_m, N, power)\n",
    "                # Generate a random vector \n",
    "                x0 = signal(N,cur_s)\n",
    "                # Recover through cvx opt as before \n",
    "                y = np.dot(A,x0)\n",
    "                c,G,h,Acvx,b = cvx_mat(A,y)\n",
    "                sol = solvers.lp(c, G, h, Acvx, b)\n",
    "                sol = sol['x']\n",
    "                x_recover = sol[0:N] - sol[N:2*N]\n",
    "                # Add one if error is smaller than the given threshold\n",
    "                cur_accuracy = dist(x0, sol)\n",
    "                PTM[cur_m-1,cur_s-1] += cur_accuracy < success\n",
    "    return PTM"
   ]
  },
  {
   "cell_type": "code",
   "execution_count": 21,
   "metadata": {},
   "outputs": [],
   "source": [
    "def frontier(mat, nbtest):\n",
    "    \"\"\"construction of the phase transition frontier, i.e. first time the number of success goes below nbtest/2\"\"\"\n",
    "    L = []\n",
    "    N = len(mat)\n",
    "    for s in range(int(N/2)):\n",
    "        P = 0\n",
    "        while mat[P,s]<nbtest/2 and P<N-1:\n",
    "            P = P + 1\n",
    "        L.append(P)\n",
    "    return L"
   ]
  },
  {
   "cell_type": "code",
   "execution_count": 22,
   "metadata": {},
   "outputs": [],
   "source": [
    "N, nbtest = 50, 16\n",
    "mat = phase_transition_mat(N, nbtest)# construction of the matrix with the number of success among nbtest"
   ]
  },
  {
   "cell_type": "code",
   "execution_count": 23,
   "metadata": {},
   "outputs": [
    {
     "data": {
      "text/plain": [
       "<matplotlib.legend.Legend at 0x1ae88008be0>"
      ]
     },
     "execution_count": 23,
     "metadata": {},
     "output_type": "execute_result"
    },
    {
     "data": {
      "image/png": "[encoded data removed]",
      "text/plain": [
       "<Figure size 640x480 with 1 Axes>"
      ]
     },
     "metadata": {},
     "output_type": "display_data"
    }
   ],
   "source": [
    "P_min, P_max, S_min, S_max = 0, N, 0, int(N/2)\n",
    "fig = plt.imshow(mat[P_min:P_max, S_min:S_max], interpolation=\"gaussian\",  \n",
    "                 aspect='auto', origin = 'lower', extent=[S_min, S_max, P_min, P_max])\n",
    "plt.xlabel('sparsity')\n",
    "plt.ylabel('number of measurements')\n",
    "\n",
    "#empirical phase transition\n",
    "X = range(int(N/2))\n",
    "L = frontier(mat, nbtest)\n",
    "plt.plot(X,L, linewidth=4, color = 'black', label='phase transition')\n",
    "plt.legend(loc=4)\n",
    "\n",
    "#filename = 'noisy_gaussian_{}_eps_{}.png'.format(n, eps)\n",
    "#plt.savefig(filename,bbox_inches='tight')"
   ]
  },
  {
   "cell_type": "markdown",
   "metadata": {},
   "source": [
    "We are now ready to compare the results of the basis pursuit with other algorithms. \n",
    "\n",
    "we first implement the Orthogonal Matching Pursuit, and then go on to Hard Thresholding approaches (Iterative Hard Thresholding and then Hard Thresholding Pursuit)\n",
    "\n",
    "We refer to the lecture notes for the definitions of the algorithms. \n",
    "\n",
    "TODO: \n",
    "\n",
    "Implement \n",
    "* OMP\n",
    "* IHT \n",
    "* HTP \n",
    "* Adapt the phase transition function to take into account the new algorithms (you may add a parameter which would be a function handle to the appropriate recovery algorithm)"
   ]
  },
  {
   "cell_type": "code",
   "execution_count": null,
   "metadata": {},
   "outputs": [],
   "source": []
  },
  {
   "cell_type": "markdown",
   "metadata": {},
   "source": [
    "TODO: Compare the results with other powers applied to the _Gaussian_ measurement matrix."
   ]
  },
  {
   "cell_type": "code",
   "execution_count": null,
   "metadata": {},
   "outputs": [],
   "source": []
  }
 ],
 "metadata": {
  "kernelspec": {
   "display_name": "Python 3 (ipykernel)",
   "language": "python",
   "name": "python3"
  },
  "language_info": {
   "codemirror_mode": {
    "name": "ipython",
    "version": 3
   },
   "file_extension": ".py",
   "mimetype": "text/x-python",
   "name": "python",
   "nbconvert_exporter": "python",
   "pygments_lexer": "ipython3",
   "version": "3.7.3"
  }
 },
 "nbformat": 4,
 "nbformat_minor": 1
}
